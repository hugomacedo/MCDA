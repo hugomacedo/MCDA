{
  "nbformat": 4,
  "nbformat_minor": 0,
  "metadata": {
    "colab": {
      "name": "MCDA-pyDecisions-05-ELECTRE II.ipynb",
      "provenance": []
    },
    "kernelspec": {
      "name": "python3",
      "display_name": "Python 3"
    }
  },
  "cells": [
    {
      "cell_type": "code",
      "metadata": {
        "id": "Wm5-ayClwNd5"
      },
      "source": [
        "# Created by: Prof. Valdecy Pereira, D.Sc.\n",
        "# UFF - Universidade Federal Fluminense (Brazil)\n",
        "# email:  valdecy.pereira@gmail.com\n",
        "# Lesson: pyDecisions - ELECTRE II\n",
        " \n",
        "# GitHub Repository: <https://github.com/Valdecy>"
      ],
      "execution_count": null,
      "outputs": []
    },
    {
      "cell_type": "code",
      "metadata": {
        "id": "F7tghgZQ1iFE"
      },
      "source": [
        "!pip install pyDecision"
      ],
      "execution_count": null,
      "outputs": []
    },
    {
      "cell_type": "code",
      "metadata": {
        "id": "J47mWMEr5L4J"
      },
      "source": [
        "# Required Libraries\n",
        "import numpy as np\n",
        "\n",
        "from pyDecision.algorithm import electre_ii"
      ],
      "execution_count": null,
      "outputs": []
    },
    {
      "cell_type": "code",
      "metadata": {
        "id": "nip_-RTp8tc1"
      },
      "source": [
        "# ELECTRE II\n",
        "    \n",
        "# Parameters\n",
        "c_minus = 0.65\n",
        "c_zero  = 0.75\n",
        "c_plus  = 0.85\n",
        "\n",
        "d_minus = 0.25\n",
        "d_plus  = 0.50\n",
        "\n",
        "W = [0.0780, 0.1180, 0.1570, 0.3140, 0.2350, 0.0390, 0.0590]\n",
        "\n",
        "# Dataset\n",
        "dataset = np.array([\n",
        "                [1, 2, 1, 5, 2, 2, 4],   #a1\n",
        "                [3, 5, 3, 5, 3, 3, 3],   #a2\n",
        "                [3, 5, 3, 5, 3, 2, 2],   #a3\n",
        "                [1, 2, 2, 5, 1, 1, 1],   #a4\n",
        "                [1, 1, 3, 5, 4, 1, 5]    #a6\n",
        "                ])"
      ],
      "execution_count": null,
      "outputs": []
    },
    {
      "cell_type": "code",
      "metadata": {
        "colab": {
          "base_uri": "https://localhost:8080/",
          "height": 261
        },
        "id": "tvXAj7Cl8-QH",
        "outputId": "9725dbad-4e90-48e3-c38a-7601212f73e7"
      },
      "source": [
        "# Call Electre II Function\n",
        "concordance, discordance, dominance_s, dominance_w, rank_D, rank_A, rank_N, rank_P = electre_ii(dataset, W = W, c_minus = c_minus, c_zero = c_zero, c_plus = c_plus, d_minus = d_minus, d_plus = d_plus, graph = True)"
      ],
      "execution_count": null,
      "outputs": [
        {
          "output_type": "display_data",
          "data": {
            "image/png": "[encoded data removed]",
            "text/plain": [
              "<Figure size 432x288 with 1 Axes>"
            ]
          },
          "metadata": {
            "tags": [],
            "needs_background": "light"
          }
        }
      ]
    },
    {
      "cell_type": "code",
      "metadata": {
        "colab": {
          "base_uri": "https://localhost:8080/"
        },
        "id": "8pMm5uyZ9FCu",
        "outputId": "2ede7bf1-cd81-4c06-fbb0-551c40eb10f9"
      },
      "source": [
        "# Concordance Matrix\n",
        "np.ndarray.round(concordance, decimals = 2)"
      ],
      "execution_count": null,
      "outputs": [
        {
          "output_type": "execute_result",
          "data": {
            "text/plain": [
              "array([[1.  , 0.37, 0.41, 0.84, 0.55],\n",
              "       [0.94, 1.  , 1.  , 1.  , 0.71],\n",
              "       [0.94, 0.9 , 1.  , 1.  , 0.71],\n",
              "       [0.67, 0.31, 0.31, 1.  , 0.55],\n",
              "       [0.84, 0.76, 0.76, 0.88, 1.  ]])"
            ]
          },
          "metadata": {
            "tags": []
          },
          "execution_count": 5
        }
      ]
    },
    {
      "cell_type": "code",
      "metadata": {
        "colab": {
          "base_uri": "https://localhost:8080/"
        },
        "id": "4tEuBsHu9MJt",
        "outputId": "e3c012ba-6957-43ca-f6e5-ea2c992feb82"
      },
      "source": [
        "# Discordance Matrix\n",
        "np.ndarray.round(discordance, decimals = 2)"
      ],
      "execution_count": null,
      "outputs": [
        {
          "output_type": "execute_result",
          "data": {
            "text/plain": [
              "array([[0.  , 0.75, 0.75, 0.25, 0.5 ],\n",
              "       [0.25, 0.  , 0.  , 0.  , 0.5 ],\n",
              "       [0.5 , 0.25, 0.  , 0.  , 0.75],\n",
              "       [0.75, 0.75, 0.75, 0.  , 1.  ],\n",
              "       [0.25, 1.  , 1.  , 0.25, 0.  ]])"
            ]
          },
          "metadata": {
            "tags": []
          },
          "execution_count": 6
        }
      ]
    },
    {
      "cell_type": "code",
      "metadata": {
        "colab": {
          "base_uri": "https://localhost:8080/"
        },
        "id": "fkCvPpRj9PMj",
        "outputId": "2b0af64a-97e8-4fd1-e541-6143f663ffcb"
      },
      "source": [
        "# Dominance Strong Matrix\n",
        "np.ndarray.round(dominance_s, decimals = 2)"
      ],
      "execution_count": null,
      "outputs": [
        {
          "output_type": "execute_result",
          "data": {
            "text/plain": [
              "array([[0., 0., 0., 1., 0.],\n",
              "       [1., 0., 1., 1., 0.],\n",
              "       [1., 0., 0., 1., 0.],\n",
              "       [0., 0., 0., 0., 0.],\n",
              "       [1., 0., 0., 1., 0.]])"
            ]
          },
          "metadata": {
            "tags": []
          },
          "execution_count": 7
        }
      ]
    },
    {
      "cell_type": "code",
      "metadata": {
        "colab": {
          "base_uri": "https://localhost:8080/"
        },
        "id": "viGScZtc9VEP",
        "outputId": "ec347059-eb72-4b80-f88a-d04f4c3a01f5"
      },
      "source": [
        "# Dominance Weak Matrix\n",
        "np.ndarray.round(dominance_s, decimals = 2)"
      ],
      "execution_count": null,
      "outputs": [
        {
          "output_type": "execute_result",
          "data": {
            "text/plain": [
              "array([[0., 0., 0., 1., 0.],\n",
              "       [1., 0., 1., 1., 0.],\n",
              "       [1., 0., 0., 1., 0.],\n",
              "       [0., 0., 0., 0., 0.],\n",
              "       [1., 0., 0., 1., 0.]])"
            ]
          },
          "metadata": {
            "tags": []
          },
          "execution_count": 8
        }
      ]
    },
    {
      "cell_type": "code",
      "metadata": {
        "colab": {
          "base_uri": "https://localhost:8080/"
        },
        "id": "2-_REn3s9YUW",
        "outputId": "07101473-44f6-481d-b00b-fabcdb43f2c6"
      },
      "source": [
        "# Rank - Descending\n",
        "for i in range(0, len(rank_D)):\n",
        "  print(str(i+1), rank_D[i])"
      ],
      "execution_count": null,
      "outputs": [
        {
          "output_type": "stream",
          "text": [
            "1 ['a2']\n",
            "2 ['a3', 'a5']\n",
            "3 ['a1']\n",
            "4 ['a4']\n"
          ],
          "name": "stdout"
        }
      ]
    },
    {
      "cell_type": "code",
      "metadata": {
        "colab": {
          "base_uri": "https://localhost:8080/"
        },
        "id": "_16qnVK89b_v",
        "outputId": "a003a07e-b845-408c-f251-b03a0d302908"
      },
      "source": [
        "# Rank - Ascending\n",
        "for i in range(0, len(rank_A)):\n",
        "  print(str(i+1), rank_A[i])"
      ],
      "execution_count": null,
      "outputs": [
        {
          "output_type": "stream",
          "text": [
            "1 ['a2', 'a5']\n",
            "2 ['a3']\n",
            "3 ['a1']\n",
            "4 ['a4']\n"
          ],
          "name": "stdout"
        }
      ]
    },
    {
      "cell_type": "code",
      "metadata": {
        "colab": {
          "base_uri": "https://localhost:8080/"
        },
        "id": "3lhXc2Hg9ef-",
        "outputId": "ab266dba-e7c8-4529-c7cc-4123445cecd8"
      },
      "source": [
        "# Rank - Partial\n",
        "for i in range(0, len(rank_P)):\n",
        "  print('a'+str(i+1), rank_P[i])"
      ],
      "execution_count": null,
      "outputs": [
        {
          "output_type": "stream",
          "text": [
            "a1 ['-' 'P-' 'P-' 'P+' 'P-']\n",
            "a2 ['P+' '-' 'P+' 'P+' 'P+']\n",
            "a3 ['P+' 'P-' '-' 'P+' 'P-']\n",
            "a4 ['P-' 'P-' 'P-' '-' 'P-']\n",
            "a5 ['P+' 'P-' 'P+' 'P+' '-']\n"
          ],
          "name": "stdout"
        }
      ]
    }
  ]
}